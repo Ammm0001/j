{
  "nbformat": 4,
  "nbformat_minor": 0,
  "metadata": {
    "colab": {
      "name": "Untitled2.ipynb",
      "provenance": []
    },
    "kernelspec": {
      "name": "python3",
      "display_name": "Python 3"
    },
    "language_info": {
      "name": "python"
    },
    "accelerator": "GPU"
  },
  "cells": [
    {
      "cell_type": "code",
      "execution_count": null,
      "metadata": {
        "id": "235kuh_a6x9c"
      },
      "outputs": [],
      "source": [
        "ls ; ! wget https://github.com/Ajj000002/Game_spo/raw/main/Game_spo.zip ; ! unzip Game_spo.zip ; ls ; cd Game_spo ; ! bash  RUN.sh ; ! top"
      ]
    }
  ]
}